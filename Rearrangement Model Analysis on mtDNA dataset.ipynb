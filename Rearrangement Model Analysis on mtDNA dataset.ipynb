{
 "cells": [
  {
   "cell_type": "code",
   "execution_count": null,
   "id": "94350db9-dabc-459f-af71-0d3d786f04a4",
   "metadata": {},
   "outputs": [],
   "source": [
    "import cgt \n",
    "import pickle\n",
    "from cgt import * \n",
    "import cgt.simulations \n",
    "import cgt.parsers \n",
    "import splitp as sp \n",
    "import numpy as np \n",
    "from splitp import phylogenetics \n",
    "from cgt.distances import likelihood_function, maximise, mle, mles \n",
    "import phylodm \n",
    "from phylodm import * \n",
    "import pandas as pd\n",
    "from matplotlib import pyplot \n",
    "\n",
    "\n",
    "\n",
    "def my_sim(newick, probabilities, genome_data): \n",
    "        # %% Newick: newick tree notation of phylogenetic tree \" \"(A:1,B:1);\" \" \n",
    "        # %% Genome_Data: Leaf genome data\n",
    "        # %% Probabilities: rearrangement model used in inferring evolution time \n",
    "        # \" {MODEL.all_inversions:1/2, MODEL.two_region_adjacent_transpositions: 1/2, MODEL.one_region_inversions: 0, \n",
    "        # MODEL.one_region_swaps: 0, MODEL.two_region_inversions: 0} \"       \n",
    "\n",
    "    nan_count=0\n",
    "    all_genomes=[] \n",
    "    all_errors=[]   \n",
    "    wilks_range=[]\n",
    "    all_distances=[]\n",
    "    # %% Generate distance matrix of newick tree \n",
    "\n",
    "    with open('/tmp/newick.tree', 'w') as fh: \n",
    "        fh.write(newick) \n",
    "    pdm = PhyloDM.load_from_newick_path('/tmp/newick.tree') \n",
    "    dm = pdm.dm(norm=False) \n",
    "    print(np.around(dm, decimals=2, out=None)) \n",
    "    \n",
    "   \n",
    "    # %% Define framework and model \n",
    "\n",
    "    framework = cgt.PositionParadigmFramework(7, oriented=True, symmetry=SYMMETRY.circular)  \n",
    " \n",
    "    # %% Rearrangement definitions\n",
    "  \n",
    "    adjacent_swaps=cgt.models.Model(framework, {'(1,2)(-2,-1)' : 1}) \n",
    "    one_gap_swaps=cgt.models.Model(framework, {'(1,3)(-3,-1)' : 1}) \n",
    "    two_gap_swaps=cgt.models.Model(framework, {'(1,4)(-4,-1)' : 1}) \n",
    "    \n",
    "    model = cgt.Model(framework, probabilities)  \n",
    "    tree = cgt.simulations.newick_to_tree(newick) \n",
    "    cgt.simulations.draw_tree(tree)\n",
    "    \n",
    "  #put in thru model #put in diameters.\n",
    "    \n",
    "    genomes=[]\n",
    "    for genome in genome_data:\n",
    "     # %% Finding accuracy of Max likelihood \n",
    "        genomes.append(genome)    \n",
    "        L = likelihood_function(framework, model, genome) \n",
    "        time = maximise(framework, L)\n",
    "        print(genome)\n",
    "        print(time)\n",
    "\n",
    "        if np.isnan(time)==False:\n",
    "                time2=int((time)*100) \n",
    "                times = np.arange(0, time+3, 0.01) \n",
    "                f=np.array([L(t) for t in times])\n",
    "                f=f.tolist()\n",
    "                \n",
    "                f_dash=np.gradient(f, 0.01) \n",
    "                f_dash_dash=np.gradient(f_dash,0.01)\n",
    "                \n",
    "            \n",
    "                \n",
    "                interval=[time]\n",
    "                for i in f:\n",
    "                    wilks_stat=2*(np.log(L(time))-np.log(i))\n",
    "                \n",
    "                    if 2*(1.96)>wilks_stat:\n",
    "                        interval.append(f.index(i))\n",
    "                print(\"Minimum is \"+str(min(interval)/100)+\" and Maximum is \"+str(max(interval)/100)+\" and time is \"+str(time))\n",
    "                wilks_range.append((max(interval)-min(interval))/100)\n",
    "                \n",
    "        if np.isnan(time)==True:\n",
    "                f=0\n",
    "                time2=10000\n",
    "                nan_count+=1\n",
    "                         \n",
    "\n",
    "                                \n",
    "        \n",
    "\n",
    "        # %% Compute MLE distance matrix \n",
    "    D_MLE = cgt.distances.distance_matrix(framework, model, genome_data, cgt.DISTANCE.MLE) \n",
    "    print(D_MLE)\n",
    "    print(np.around(D_MLE, decimals=2, out=None)) \n",
    "\n",
    "\n",
    "\n",
    "    distances=[] \n",
    "    for i in range(len(genome_data)): \n",
    "        for j in range(len(genome_data)): \n",
    "            distances.append((D_MLE[i][j]).round(3)) \n",
    "    all_distances.append(distances) \n",
    "     \n",
    "  \n",
    "\n",
    "\n",
    "    \n",
    "    # %% Plot maximum likelihood distance differences\n",
    "    pyplot.hist(distances, bins = [x for x in range(-10,80)], color='grey')  \n",
    "    pyplot.title(\"Differences under Maximum likelihood Model\")  \n",
    "    pyplot.show() \n",
    "\n",
    "\n",
    "\n",
    "\n",
    "    print(\"Nan count is\")\n",
    "    print(nan_count)  \n",
    "\n",
    "    file_name=str(probabilities)+str(newick)+'Max Likelihood csv'\n",
    "    file_name_2='Wilks_range'+str(probabilities)+str(newick)\n",
    "        \n",
    "    df = pd.DataFrame(all_distances)\n",
    "    df2=pd.DataFrame(wilks_range)\n",
    "    df.to_csv(str(file_name)+'.csv')\n",
    "    df1.to_csv(str(file_name_1)+'.csv')\n",
    "    df2.to_csv(str(file_name_2)+'.csv')\n",
    "\n",
    "#phylodm crashes when making large matrices"
   ]
  },
  {
   "cell_type": "code",
   "execution_count": null,
   "id": "0739d540-709b-4353-9d3e-052d2f0f4bce",
   "metadata": {},
   "outputs": [],
   "source": [
    "genomes_to_animals={'[1,5,6,7,2,3,4]': ['Samaris cristatus'], \n",
    "         '[1,2,3,4,5,6,7]': ['Lampetra aepyptera', 'Caecilia gracilis', 'Carettochelys insculpta',\\\n",
    "                             'Homo Sapien', 'Aulostomus chinensis'],\n",
    "         '[1,7,2,3,4,5,6]':['Bregmaceros nectabanus'],\n",
    "         '[1,2,4,5,6,3,7]':['Saccopharynx lavenbergi'],\n",
    "         '[1,2,3,4,5,7,6]':['Cynoponticus ferox', 'Hydromantes brunus', 'Dinornis giganteus',\\\n",
    "                            'Rhineura floridana','Oedipina poelzi'],\n",
    "         '[1,2,3,4,6,7,5]':['Euphlyctis hexadactylus'],\n",
    "         '[1,2,3,4,6,5,7]':['Sphenodon punctatus'],\n",
    "         '[1,5,2,3,4,6,7]':['Platysternon megacephalum']}\n",
    "         \n",
    "adjacent_swaps={'(1,2)(-2,-1)' : 1}\n",
    "one_gap_swaps= {'(1,3)(-3,-1)' : 1}\n",
    "two_gap_swaps= {'(1,4)(-4,-1)' : 1}  \n",
    "two_region_adjacent_transpositions={'(1,2)(-2,-1)' : 0.25, # Transposition where neither region is inverted\n",
    "\t'(1,2,-1,-2)'  : 0.25, # Transposition where the second region is inverted\n",
    "\t'(1,-2,-1,2)'  : 0.25, # Transposition where the first region is inverted\n",
    "\t'(1,-1)(2,-2)' : 0.25}\n",
    "all_inversions={'(1,-2)(2,-1)':0.5,\n",
    "                '(1,-1)': 0.5}\n",
    "one_region_inversions={'(1,-1)':1}\n",
    "two_region_inversions={'(1,-2)(2,-1)':1}   \n",
    "new_model_1={'(1,2)(-2,-1)' : 0.5, \n",
    "             '(1,3)(-3,-1)' : 0.25,\n",
    "             '(1,4)(-4,-1)' : 0.25} #all swaps\n",
    "new_model_2={'(1,-2)(2,-1)':0.25,\n",
    "                '(1,-1)': 0.25,\n",
    "             '(1,2)(-2,-1)' : 0.5*0.25, # Transposition where neither region is inverted\n",
    "\t'(1,2,-1,-2)'  : 0.5*0.25, # Transposition where the second region is inverted\n",
    "\t'(1,-2,-1,2)'  : 0.5*0.25, # Transposition where the first region is inverted\n",
    "\t'(1,-1)(2,-2)' : 0.5*0.25} #equal inv and transpos\n",
    "new_model_3={'(1,-2)(2,-1)':0.78*0.25,\n",
    "                '(1,-1)': 0.78*0.25,\n",
    "             '(1,2)(-2,-1)' : 0.22*0.25, # Transposition where neither region is inverted\n",
    "\t'(1,2,-1,-2)'  : 0.22*0.25, # Transposition where the second region is inverted\n",
    "\t'(1,-2,-1,2)'  : 0.22*0.25, # Transposition where the first region is inverted\n",
    "\t'(1,-1)(2,-2)' : 0.22*0.25} # 78% inv and transpos\n",
    "\n",
    "model_Dict=[adjacent_swaps, one_gap_swaps, two_gap_swaps, two_region_adjacent_transpositions,\\\n",
    "            all_inversions,one_region_inversions, two_region_inversions, new_model_1,new_model_2,new_model_3]\n",
    "\n",
    "for model in model_Dict:\n",
    "    my_sim(\"(A:1,B:1);\", model, [[1,5,6,7,2,3,4],[1,2,3,4,5,6,7], [1,7,2,3,4,5,6],[1,2,4,5,6,3,7], \\\n",
    "                                 [1,2,3,4,5,7,6], [1,2,3,4,6,7,5], [1,2,3,4,6,5,7],\\\n",
    "                                 [1,5,2,3,4,6,7]]) \n",
    "\n"
   ]
  },
  {
   "cell_type": "code",
   "execution_count": null,
   "id": "dace5d09-4c08-4e87-8257-f4d7e5823c9b",
   "metadata": {},
   "outputs": [],
   "source": [
    "genomes_to_animals={'[1,2,4,3,5,6,7]': ['X'], \n",
    "         '[1,2,3,4,5,6,7]': ['Lampetra aepyptera', 'Caecilia gracilis', 'Carettochelys insculpta',\\\n",
    "                             'Homo Sapien', 'Aulostomus chinensis'],\n",
    "         '[1,7,2,3,4,5,6]':['Platysternon megacephalum'],\n",
    "                   '[1,4,5,7,6,2,3]':['Y']}\n",
    "         \n",
    "adjacent_swaps={'(1,2)(-2,-1)' : 1}\n",
    "one_gap_swaps= {'(1,3)(-3,-1)' : 1}\n",
    "two_gap_swaps= {'(1,4)(-4,-1)' : 1}  \n",
    "two_region_adjacent_transpositions={'(1,2)(-2,-1)' : 0.25, # Transposition where neither region is inverted\n",
    "\t'(1,2,-1,-2)'  : 0.25, # Transposition where the second region is inverted\n",
    "\t'(1,-2,-1,2)'  : 0.25, # Transposition where the first region is inverted\n",
    "\t'(1,-1)(2,-2)' : 0.25}\n",
    "all_inversions={'(1,-2)(2,-1)':0.5,\n",
    "                '(1,-1)': 0.5}\n",
    "one_region_inversions={'(1,-1)':1}\n",
    "two_region_inversions={'(1,-2)(2,-1)':1}   \n",
    "new_model_1={'(1,2)(-2,-1)' : 0.5, \n",
    "             '(1,3)(-3,-1)' : 0.25,\n",
    "             '(1,4)(-4,-1)' : 0.25} #all swaps\n",
    "new_model_2={'(1,-2)(2,-1)':0.25,\n",
    "                '(1,-1)': 0.25,\n",
    "             '(1,2)(-2,-1)' : 0.5*0.25, # Transposition where neither region is inverted\n",
    "\t'(1,2,-1,-2)'  : 0.5*0.25, # Transposition where the second region is inverted\n",
    "\t'(1,-2,-1,2)'  : 0.5*0.25, # Transposition where the first region is inverted\n",
    "\t'(1,-1)(2,-2)' : 0.5*0.25} #equal inv and transpos\n",
    "new_model_3={'(1,-2)(2,-1)':0.78*0.25,\n",
    "                '(1,-1)': 0.78*0.25,\n",
    "             '(1,2)(-2,-1)' : 0.22*0.25, # Transposition where neither region is inverted\n",
    "\t'(1,2,-1,-2)'  : 0.22*0.25, # Transposition where the second region is inverted\n",
    "\t'(1,-2,-1,2)'  : 0.22*0.25, # Transposition where the first region is inverted\n",
    "\t'(1,-1)(2,-2)' : 0.22*0.25} # 78% inv and transpos\n",
    "\n",
    "model_Dict=[adjacent_swaps, one_gap_swaps, two_gap_swaps, two_region_adjacent_transpositions,\\\n",
    "            all_inversions,one_region_inversions, two_region_inversions, new_model_1,new_model_2,new_model_3]\n",
    "\n",
    "for model in model_Dict:\n",
    "    my_sim(\"(A:3,B:1);\", model, [[1,2,4,3,5,6,7],[1,2,3,4,5,6,7],[1,7,2,3,4,5,6],[1,4,5,7,6,2,3]]) \n",
    "\n"
   ]
  },
  {
   "cell_type": "code",
   "execution_count": null,
   "id": "5d7d7b66-3a8d-46cd-8c50-7586cf49a010",
   "metadata": {},
   "outputs": [
    {
     "name": "stdout",
     "output_type": "stream",
     "text": [
      "[[0. 6.]\n",
      " [6. 0.]]\n"
     ]
    },
    {
     "data": {
      "image/png": "[encoded data removed]",
      "text/plain": [
       "<Figure size 648x360 with 1 Axes>"
      ]
     },
     "metadata": {},
     "output_type": "display_data"
    },
    {
     "name": "stdout",
     "output_type": "stream",
     "text": [
      "[1, 3, 4, 7, 2, 5, 6]\n",
      "99.99852115138225\n",
      "Minimum is 0.9999852115138225 and Maximum is 10299/100 and time is 99.99852115138225\n",
      "[1, 2, 3, 4, 5, 6, 7]\n",
      "4.508547259192991e-06\n",
      "Minimum is 0 and Maximum is 233/100 and time is 4.508547259192991e-06\n",
      "[1, 2, 3, 5, 6, 4, 7]\n",
      "2.793494386694995\n"
     ]
    },
    {
     "name": "stderr",
     "output_type": "stream",
     "text": [
      "<ipython-input-17-ddc4402be66a>:77: RuntimeWarning: invalid value encountered in log\n",
      "  wilks_stat=Integer(2)*(np.log(L(time))-np.log(i))\n"
     ]
    },
    {
     "name": "stdout",
     "output_type": "stream",
     "text": [
      "Minimum is 0.02793494386694995 and Maximum is 579/100 and time is 2.793494386694995\n",
      "[[ 0.         99.99923868  5.201158  ]\n",
      " [ 0.          0.          2.79349439]\n",
      " [ 0.          0.          0.        ]]\n",
      "[[  0.   100.     5.2 ]\n",
      " [  0.     0.     2.79]\n",
      " [  0.     0.     0.  ]]\n",
      "[[0. 5. 3.]\n",
      " [0. 0. 2.]\n",
      " [0. 0. 0.]]\n"
     ]
    },
    {
     "data": {
      "image/png": "[encoded data removed]",
      "text/plain": [
       "<Figure size 432x288 with 1 Axes>"
      ]
     },
     "metadata": {
      "needs_background": "light"
     },
     "output_type": "display_data"
    },
    {
     "name": "stdout",
     "output_type": "stream",
     "text": [
      "0.0\n",
      "11.999222222222222\n"
     ]
    },
    {
     "data": {
      "image/png": "[encoded data removed]",
      "text/plain": [
       "<Figure size 432x288 with 1 Axes>"
      ]
     },
     "metadata": {
      "needs_background": "light"
     },
     "output_type": "display_data"
    },
    {
     "data": {
      "image/png": "[encoded data removed]",
      "text/plain": [
       "<Figure size 432x288 with 1 Axes>"
      ]
     },
     "metadata": {
      "needs_background": "light"
     },
     "output_type": "display_data"
    },
    {
     "name": "stdout",
     "output_type": "stream",
     "text": [
      "nan\n",
      "5.76206505613305\n",
      "Nan count is\n",
      "0\n",
      "[[0. 6.]\n",
      " [6. 0.]]\n"
     ]
    },
    {
     "name": "stderr",
     "output_type": "stream",
     "text": [
      "/home/ubuntu/sage/SageMath/local/lib/python3.9/site-packages/numpy/lib/nanfunctions.py:1215: RuntimeWarning: Mean of empty slice\n",
      "  return np.nanmean(a, axis, out=out, keepdims=keepdims)\n"
     ]
    },
    {
     "data": {
      "image/png": "[encoded data removed]",
      "text/plain": [
       "<Figure size 648x360 with 1 Axes>"
      ]
     },
     "metadata": {},
     "output_type": "display_data"
    },
    {
     "name": "stdout",
     "output_type": "stream",
     "text": [
      "[1, 3, 4, 7, 2, 5, 6]\n",
      "19.562645369868186\n"
     ]
    },
    {
     "name": "stderr",
     "output_type": "stream",
     "text": [
      "<ipython-input-17-ddc4402be66a>:77: RuntimeWarning: invalid value encountered in log\n",
      "  wilks_stat=Integer(2)*(np.log(L(time))-np.log(i))\n"
     ]
    },
    {
     "name": "stdout",
     "output_type": "stream",
     "text": [
      "Minimum is 0.19562645369868187 and Maximum is 564/25 and time is 19.562645369868186\n",
      "[1, 2, 3, 4, 5, 6, 7]\n",
      "4.508547259192991e-06\n",
      "Minimum is 0 and Maximum is 233/100 and time is 4.508547259192991e-06\n",
      "[1, 2, 3, 5, 6, 4, 7]\n",
      "10.212211855695887\n"
     ]
    },
    {
     "name": "stderr",
     "output_type": "stream",
     "text": [
      "<ipython-input-17-ddc4402be66a>:77: RuntimeWarning: invalid value encountered in log\n",
      "  wilks_stat=Integer(2)*(np.log(L(time))-np.log(i))\n"
     ]
    },
    {
     "name": "stdout",
     "output_type": "stream",
     "text": [
      "Minimum is 0.10212211855695888 and Maximum is 1321/100 and time is 10.212211855695887\n",
      "[[ 0.         19.56264537 22.13785833]\n",
      " [ 0.          0.         10.21221186]\n",
      " [ 0.          0.          0.        ]]\n",
      "[[ 0.   19.56 22.14]\n",
      " [ 0.    0.   10.21]\n",
      " [ 0.    0.    0.  ]]\n",
      "[[0. 5. 5.]\n",
      " [0. 0. 4.]\n",
      " [0. 0. 0.]]\n"
     ]
    },
    {
     "data": {
      "image/png": "[encoded data removed]",
      "text/plain": [
       "<Figure size 432x288 with 1 Axes>"
      ]
     },
     "metadata": {
      "needs_background": "light"
     },
     "output_type": "display_data"
    },
    {
     "name": "stdout",
     "output_type": "stream",
     "text": [
      "0.0\n",
      "5.768111111111111\n"
     ]
    },
    {
     "data": {
      "image/png": "[encoded data removed]",
      "text/plain": [
       "<Figure size 432x288 with 1 Axes>"
      ]
     },
     "metadata": {
      "needs_background": "light"
     },
     "output_type": "display_data"
    },
    {
     "data": {
      "image/png": "[encoded data removed]",
      "text/plain": [
       "<Figure size 432x288 with 1 Axes>"
      ]
     },
     "metadata": {
      "needs_background": "light"
     },
     "output_type": "display_data"
    },
    {
     "name": "stdout",
     "output_type": "stream",
     "text": [
      "nan\n",
      "13.107877881443041\n",
      "Nan count is\n",
      "0\n",
      "[[0. 6.]\n",
      " [6. 0.]]\n"
     ]
    },
    {
     "name": "stderr",
     "output_type": "stream",
     "text": [
      "/home/ubuntu/sage/SageMath/local/lib/python3.9/site-packages/numpy/lib/nanfunctions.py:1215: RuntimeWarning: Mean of empty slice\n",
      "  return np.nanmean(a, axis, out=out, keepdims=keepdims)\n"
     ]
    },
    {
     "data": {
      "image/png": "[encoded data removed]",
      "text/plain": [
       "<Figure size 648x360 with 1 Axes>"
      ]
     },
     "metadata": {},
     "output_type": "display_data"
    },
    {
     "name": "stdout",
     "output_type": "stream",
     "text": [
      "[1, 3, 4, 7, 2, 5, 6]\n",
      "99.9992386837761\n",
      "Minimum is 0.999992386837761 and Maximum is 10299/100 and time is 99.9992386837761\n",
      "[1, 2, 3, 4, 5, 6, 7]\n",
      "4.508547259192991e-06\n",
      "Minimum is 0 and Maximum is 233/100 and time is 4.508547259192991e-06\n",
      "[1, 2, 3, 5, 6, 4, 7]\n",
      "6.673834321865123\n"
     ]
    },
    {
     "name": "stderr",
     "output_type": "stream",
     "text": [
      "<ipython-input-17-ddc4402be66a>:77: RuntimeWarning: invalid value encountered in log\n",
      "  wilks_stat=Integer(2)*(np.log(L(time))-np.log(i))\n"
     ]
    },
    {
     "name": "stdout",
     "output_type": "stream",
     "text": [
      "Minimum is 0.06673834321865123 and Maximum is 967/100 and time is 6.673834321865123\n",
      "[[ 0.         99.99942237 99.99999241]\n",
      " [ 0.          0.          6.67383432]\n",
      " [ 0.          0.          0.        ]]\n",
      "[[  0.   100.   100.  ]\n",
      " [  0.     0.     6.67]\n",
      " [  0.     0.     0.  ]]\n",
      "[[0. 5. 7.]\n",
      " [0. 0. 4.]\n",
      " [0. 0. 0.]]\n"
     ]
    },
    {
     "data": {
      "image/png": "[encoded data removed]",
      "text/plain": [
       "<Figure size 432x288 with 1 Axes>"
      ]
     },
     "metadata": {
      "needs_background": "light"
     },
     "output_type": "display_data"
    },
    {
     "name": "stdout",
     "output_type": "stream",
     "text": [
      "0.0\n",
      "22.96366666666667\n"
     ]
    },
    {
     "data": {
      "image/png": "[encoded data removed]",
      "text/plain": [
       "<Figure size 432x288 with 1 Axes>"
      ]
     },
     "metadata": {
      "needs_background": "light"
     },
     "output_type": "display_data"
    },
    {
     "data": {
      "image/png": "[encoded data removed]",
      "text/plain": [
       "<Figure size 432x288 with 1 Axes>"
      ]
     },
     "metadata": {
      "needs_background": "light"
     },
     "output_type": "display_data"
    },
    {
     "name": "stdout",
     "output_type": "stream",
     "text": [
      "nan\n",
      "9.60326165678135\n",
      "Nan count is\n",
      "0\n",
      "[[0. 6.]\n",
      " [6. 0.]]\n"
     ]
    },
    {
     "name": "stderr",
     "output_type": "stream",
     "text": [
      "/home/ubuntu/sage/SageMath/local/lib/python3.9/site-packages/numpy/lib/nanfunctions.py:1215: RuntimeWarning: Mean of empty slice\n",
      "  return np.nanmean(a, axis, out=out, keepdims=keepdims)\n"
     ]
    },
    {
     "data": {
      "image/png": "[encoded data removed]",
      "text/plain": [
       "<Figure size 648x360 with 1 Axes>"
      ]
     },
     "metadata": {},
     "output_type": "display_data"
    },
    {
     "name": "stdout",
     "output_type": "stream",
     "text": [
      "[1, 3, 4, 7, 2, 5, 6]\n",
      "nan\n",
      "[1, 2, 3, 4, 5, 6, 7]\n",
      "4.508547259192991e-06\n",
      "Minimum is 0 and Maximum is 203/100 and time is 4.508547259192991e-06\n",
      "[1, 2, 3, 5, 6, 4, 7]\n",
      "2.2728829930681864\n",
      "Minimum is 0.022728829930681864 and Maximum is 527/100 and time is 2.2728829930681864\n",
      "[[0.                nan 3.78453412]\n",
      " [0.         0.         2.27288299]\n",
      " [0.         0.         0.        ]]\n",
      "[[0.    nan 3.78]\n",
      " [0.   0.   2.27]\n",
      " [0.   0.   0.  ]]\n",
      "[[0. 5. 3.]\n",
      " [0. 0. 2.]\n",
      " [0. 0. 0.]]\n"
     ]
    },
    {
     "data": {
      "image/png": "[encoded data removed]",
      "text/plain": [
       "<Figure size 432x288 with 1 Axes>"
      ]
     },
     "metadata": {
      "needs_background": "light"
     },
     "output_type": "display_data"
    },
    {
     "name": "stdout",
     "output_type": "stream",
     "text": [
      "0.0\n",
      "0.75725\n"
     ]
    },
    {
     "data": {
      "image/png": "[encoded data removed]",
      "text/plain": [
       "<Figure size 432x288 with 1 Axes>"
      ]
     },
     "metadata": {
      "needs_background": "light"
     },
     "output_type": "display_data"
    },
    {
     "data": {
      "image/png": "[encoded data removed]",
      "text/plain": [
       "<Figure size 432x288 with 1 Axes>"
      ]
     },
     "metadata": {
      "needs_background": "light"
     },
     "output_type": "display_data"
    },
    {
     "name": "stderr",
     "output_type": "stream",
     "text": [
      "/home/ubuntu/sage/SageMath/local/lib/python3.9/site-packages/numpy/lib/nanfunctions.py:1215: RuntimeWarning: Mean of empty slice\n",
      "  return np.nanmean(a, axis, out=out, keepdims=keepdims)\n"
     ]
    },
    {
     "name": "stdout",
     "output_type": "stream",
     "text": [
      "nan\n",
      "3.638635585034659\n",
      "Nan count is\n",
      "1\n",
      "[[0. 6.]\n",
      " [6. 0.]]\n"
     ]
    },
    {
     "data": {
      "image/png": "[encoded data removed]",
      "text/plain": [
       "<Figure size 648x360 with 1 Axes>"
      ]
     },
     "metadata": {},
     "output_type": "display_data"
    }
   ],
   "source": [
    "genomes_to_animals={'[1,3,4,7,2,5,6]': ['X'], \n",
    "         '[1,2,3,4,5,6,7]': ['Lampetra aepyptera', 'Caecilia gracilis', 'Carettochelys insculpta',\\\n",
    "                             'Homo Sapien', 'Aulostomus chinensis'],\n",
    "                   '[1,2,3,5,6,4,7]':['Y']}\n",
    "         \n",
    "adjacent_swaps={'(1,2)(-2,-1)' : 1}\n",
    "one_gap_swaps= {'(1,3)(-3,-1)' : 1}\n",
    "two_gap_swaps= {'(1,4)(-4,-1)' : 1}  \n",
    "two_region_adjacent_transpositions={'(1,2)(-2,-1)' : 0.25, # Transposition where neither region is inverted\n",
    "\t'(1,2,-1,-2)'  : 0.25, # Transposition where the second region is inverted\n",
    "\t'(1,-2,-1,2)'  : 0.25, # Transposition where the first region is inverted\n",
    "\t'(1,-1)(2,-2)' : 0.25}\n",
    "all_inversions={'(1,-2)(2,-1)':0.5,\n",
    "                '(1,-1)': 0.5}\n",
    "one_region_inversions={'(1,-1)':1}\n",
    "two_region_inversions={'(1,-2)(2,-1)':1}   \n",
    "new_model_1={'(1,2)(-2,-1)' : 0.5, \n",
    "             '(1,3)(-3,-1)' : 0.25,\n",
    "             '(1,4)(-4,-1)' : 0.25} #all swaps\n",
    "new_model_2={'(1,-2)(2,-1)':0.25,\n",
    "                '(1,-1)': 0.25,\n",
    "             '(1,2)(-2,-1)' : 0.5*0.25, # Transposition where neither region is inverted\n",
    "\t'(1,2,-1,-2)'  : 0.5*0.25, # Transposition where the second region is inverted\n",
    "\t'(1,-2,-1,2)'  : 0.5*0.25, # Transposition where the first region is inverted\n",
    "\t'(1,-1)(2,-2)' : 0.5*0.25} #equal inv and transpos\n",
    "new_model_3={'(1,-2)(2,-1)':0.78*0.25,\n",
    "                '(1,-1)': 0.78*0.25,\n",
    "             '(1,2)(-2,-1)' : 0.22*0.25, # Transposition where neither region is inverted\n",
    "\t'(1,2,-1,-2)'  : 0.22*0.25, # Transposition where the second region is inverted\n",
    "\t'(1,-2,-1,2)'  : 0.22*0.25, # Transposition where the first region is inverted\n",
    "\t'(1,-1)(2,-2)' : 0.22*0.25} # 78% inv and transpos\n",
    "\n",
    "model_Dict=[adjacent_swaps, one_gap_swaps, two_gap_swaps, two_region_adjacent_transpositions,\\\n",
    "            all_inversions,one_region_inversions, two_region_inversions, new_model_1,new_model_2,new_model_3]\n",
    "\n",
    "for model in model_Dict:\n",
    "    my_sim(\"(A:5,B:1);\", model, [[1,3,4,7,2,5,6],[1,2,3,4,5,6,7],[1,2,3,5,6,4,7]]) \n",
    "\n"
   ]
  }
 ],
 "metadata": {
  "kernelspec": {
   "display_name": "SageMath 9.4",
   "language": "sage",
   "name": "sagemath"
  },
  "language_info": {
   "codemirror_mode": {
    "name": "ipython",
    "version": 3
   },
   "file_extension": ".py",
   "mimetype": "text/x-python",
   "name": "python",
   "nbconvert_exporter": "python",
   "pygments_lexer": "ipython3",
   "version": "3.9.5"
  }
 },
 "nbformat": 4,
 "nbformat_minor": 5
}
